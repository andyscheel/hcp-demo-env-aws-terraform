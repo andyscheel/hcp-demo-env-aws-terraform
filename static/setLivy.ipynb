{
 "cells": [
  {
   "cell_type": "markdown",
   "id": "known-persian",
   "metadata": {},
   "source": [
    "# Configure the Notebook to use Livy Spark "
   ]
  },
  {
   "cell_type": "markdown",
   "id": "electric-double",
   "metadata": {},
   "source": [
    "### Use Livy to set up spark cluster connection (mandatory)"
   ]
  },
  {
   "cell_type": "markdown",
   "id": "structured-customer",
   "metadata": {},
   "source": [
    "### Set the Livy Service Endpoint \n",
    "Enter the livy URL for your livy-spark endpoint. The URL must be in the form https://<your-livy-spark-address\\>:<your-livy-port\\>"
   ]
  },
  {
   "cell_type": "code",
   "execution_count": 1,
   "id": "65c12a54-dfa9-43eb-944c-1a15e95716d3",
   "metadata": {},
   "outputs": [],
   "source": [
    "%%capture LIVY_ENDPOINT\n",
    "%%bash\n",
    "\n",
    "INTERNAL_PORT=$(kubectl get service livy-http -o jsonpath='{.spec.ports[0].port}')\n",
    "LIVY_ENDPOINT=$(kubectl get service livy-http -o jsonpath=\"{.metadata.annotations.hpecp-internal-gateway/$INTERNAL_PORT}\")\n",
    "echo \"https://$LIVY_ENDPOINT\""
   ]
  },
  {
   "cell_type": "code",
   "execution_count": 2,
   "id": "intelligent-liquid",
   "metadata": {},
   "outputs": [
    {
     "name": "stdout",
     "output_type": "stream",
     "text": [
      "https://ip-10-1-0-61.eu-west-3.compute.internal:10014\n"
     ]
    }
   ],
   "source": [
    "livyURL = LIVY_ENDPOINT()"
   ]
  },
  {
   "cell_type": "markdown",
   "id": "acting-antibody",
   "metadata": {},
   "source": [
    "### Authenticate the Livy Endpoint \n",
    "Please enter the same password as for your jupyter notebook user. "
   ]
  },
  {
   "cell_type": "code",
   "execution_count": 3,
   "id": "buried-blast",
   "metadata": {},
   "outputs": [
    {
     "name": "stdout",
     "output_type": "stream",
     "text": [
      "please enter your password\n"
     ]
    },
    {
     "name": "stdin",
     "output_type": "stream",
     "text": [
      " ·······\n"
     ]
    },
    {
     "name": "stdout",
     "output_type": "stream",
     "text": [
      "set parameters\n"
     ]
    }
   ],
   "source": [
    "%setLivy --url $livyURL"
   ]
  },
  {
   "cell_type": "markdown",
   "id": "comic-ultimate",
   "metadata": {},
   "source": [
    "You can now continue with the Interactive Spark-Examples.ipynb Notebook or Run Spark-Jobs-on-K8S.ipynb using the spark yaml files"
   ]
  },
  {
   "cell_type": "code",
   "execution_count": null,
   "id": "bronze-district",
   "metadata": {},
   "outputs": [],
   "source": []
  }
 ],
 "metadata": {
  "kernelspec": {
   "display_name": "Python 3",
   "language": "python",
   "name": "python3"
  },
  "language_info": {
   "codemirror_mode": {
    "name": "ipython",
    "version": 3
   },
   "file_extension": ".py",
   "mimetype": "text/x-python",
   "name": "python",
   "nbconvert_exporter": "python",
   "pygments_lexer": "ipython3",
   "version": "3.8.8"
  }
 },
 "nbformat": 4,
 "nbformat_minor": 5
}