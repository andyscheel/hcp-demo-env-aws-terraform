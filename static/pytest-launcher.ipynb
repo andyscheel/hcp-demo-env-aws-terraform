{
 "cells": [
  {
   "cell_type": "code",
   "execution_count": 4,
   "id": "57c28325-5790-406f-bbf3-b9a2a0db28b2",
   "metadata": {},
   "outputs": [
    {
     "name": "stdout",
     "output_type": "stream",
     "text": [
      "\u001b[1m============================= test session starts ==============================\u001b[0m\n",
      "platform linux -- Python 3.7.3, pytest-6.2.3, py-1.10.0, pluggy-0.13.1\n",
      "rootdir: /home/ad_user1/examples/mlflow\n",
      "plugins: nbval-0.9.6, anyio-2.2.0\n",
      "collected 0 items                                                              \u001b[0m\n",
      "\n",
      "\u001b[33m============================ \u001b[33mno tests ran\u001b[0m\u001b[33m in 0.00s\u001b[0m\u001b[33m =============================\u001b[0m\n",
      "\u001b[31mERROR: file or directory not found: /home/ad_user1/training_cluster_connection_test.ipynb\n",
      "\u001b[0m\n"
     ]
    }
   ],
   "source": [
    "! ~/.local/bin/py.test --nbval-lax ~/training_cluster_connection_test.ipynb"
   ]
  },
  {
   "cell_type": "code",
   "execution_count": null,
   "id": "f8292e65-e2df-40bf-ab64-5a88e547d2ff",
   "metadata": {},
   "outputs": [],
   "source": []
  }
 ],
 "metadata": {
  "kernelspec": {
   "display_name": "Python 3",
   "language": "python",
   "name": "python3"
  },
  "language_info": {
   "codemirror_mode": {
    "name": "ipython",
    "version": 3
   },
   "file_extension": ".py",
   "mimetype": "text/x-python",
   "name": "python",
   "nbconvert_exporter": "python",
   "pygments_lexer": "ipython3",
   "version": "3.7.3"
  }
 },
 "nbformat": 4,
 "nbformat_minor": 5
}
