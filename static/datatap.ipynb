{
 "cells": [
  {
   "cell_type": "markdown",
   "id": "ahead-layout",
   "metadata": {},
   "source": [
    "TenantStorage was created automatically when the tenant was created.\n",
    "\n",
    "Use the `hadoop fs` cli to upload a file."
   ]
  },
  {
   "cell_type": "code",
   "execution_count": 1,
   "id": "exterior-population",
   "metadata": {},
   "outputs": [],
   "source": [
    "! hadoop fs -put -f wine-quality.csv dtap://TenantStorage/"
   ]
  },
  {
   "cell_type": "markdown",
   "id": "searching-attention",
   "metadata": {},
   "source": [
    "Now check the file has been uploaded."
   ]
  },
  {
   "cell_type": "code",
   "execution_count": 2,
   "id": "conventional-vatican",
   "metadata": {},
   "outputs": [],
   "source": [
    "# NBVAL_IGNORE_OUTPUT\n",
    "! hadoop fs -tail dtap://TenantStorage/wine-quality.csv"
   ]
  },
  {
   "cell_type": "code",
   "execution_count": null,
   "id": "finished-warrior",
   "metadata": {},
   "outputs": [],
   "source": []
  }
 ],
 "metadata": {
  "kernelspec": {
   "display_name": "Python 3",
   "language": "python",
   "name": "python3"
  },
  "language_info": {
   "codemirror_mode": {
    "name": "ipython",
    "version": 3
   },
   "file_extension": ".py",
   "mimetype": "text/x-python",
   "name": "python",
   "nbconvert_exporter": "python",
   "pygments_lexer": "ipython3",
   "version": "3.8.5"
  }
 },
 "nbformat": 4,
 "nbformat_minor": 5
}
