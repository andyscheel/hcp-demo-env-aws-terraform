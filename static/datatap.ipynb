{
 "cells": [
  {
   "cell_type": "markdown",
   "id": "ahead-layout",
   "metadata": {},
   "source": [
    "TenantStorage was created automatically when the tenant was created.\n",
    "\n",
    "Use the `hadoop fs` cli to upload a file."
   ]
  },
  {
   "cell_type": "code",
   "execution_count": 1,
   "id": "exterior-population",
   "metadata": {},
   "outputs": [],
   "source": [
    "! hadoop fs -put wine-quality.csv dtap://TenantStorage/"
   ]
  },
  {
   "cell_type": "markdown",
   "id": "searching-attention",
   "metadata": {},
   "source": [
    "Now check the file has been uploaded."
   ]
  },
  {
   "cell_type": "code",
   "execution_count": 2,
   "id": "conventional-vatican",
   "metadata": {},
   "outputs": [
    {
     "name": "stdout",
     "output_type": "stream",
     "text": [
      "494,3.15,0.5,9.53333333333333,6\n",
      "6.6,0.34,0.4,8.1,0.046,68,170,0.99494,3.15,0.5,9.53333333333333,6\n",
      "5,0.235,0.27,11.75,0.03,34,118,0.9954,3.07,0.5,9.4,6\n",
      "5.5,0.32,0.13,1.3,0.037,45,156,0.99184,3.26,0.38,10.7,5\n",
      "4.9,0.47,0.17,1.9,0.035,60,148,0.98964,3.27,0.35,11.5,6\n",
      "6.5,0.33,0.38,8.3,0.048,68,174,0.99492,3.14,0.5,9.6,5\n",
      "6.6,0.34,0.4,8.1,0.046,68,170,0.99494,3.15,0.5,9.55,6\n",
      "6.2,0.21,0.28,5.7,0.028,45,121,0.99168,3.21,1.08,12.15,7\n",
      "6.2,0.41,0.22,1.9,0.023,5,56,0.98928,3.04,0.79,13,7\n",
      "6.8,0.22,0.36,1.2,0.052,38,127,0.9933,3.04,0.54,9.2,5\n",
      "4.9,0.235,0.27,11.75,0.03,34,118,0.9954,3.07,0.5,9.4,6\n",
      "6.1,0.34,0.29,2.2,0.036,25,100,0.98938,3.06,0.44,11.8,6\n",
      "5.7,0.21,0.32,0.9,0.038,38,121,0.99074,3.24,0.46,10.6,6\n",
      "6.5,0.23,0.38,1.3,0.032,29,112,0.99298,3.29,0.54,9.7,5\n",
      "6.2,0.21,0.29,1.6,0.039,24,92,0.99114,3.27,0.5,11.2,6\n",
      "6.6,0.32,0.36,8,0.047,57,168,0.9949,3.15,0.46,9.6,5\n",
      "6.5,0.24,0.19,1.2,0.041,30,111,0.99254,2.99,0.46,9.4,6\n",
      "5.5,0.29,0.3,1.1,0.022,20,110,0.98869,3.34,0.38,12.8,7\n",
      "6,0.21,0.38,0.8,0.02,22,98,0.98941,3.26,0.32,11.8,6\n"
     ]
    }
   ],
   "source": [
    "! hadoop fs -tail dtap://TenantStorage/wine-quality.csv"
   ]
  },
  {
   "cell_type": "code",
   "execution_count": null,
   "id": "finished-warrior",
   "metadata": {},
   "outputs": [],
   "source": []
  }
 ],
 "metadata": {
  "kernelspec": {
   "display_name": "Python 3",
   "language": "python",
   "name": "python3"
  },
  "language_info": {
   "codemirror_mode": {
    "name": "ipython",
    "version": 3
   },
   "file_extension": ".py",
   "mimetype": "text/x-python",
   "name": "python",
   "nbconvert_exporter": "python",
   "pygments_lexer": "ipython3",
   "version": "3.8.5"
  }
 },
 "nbformat": 4,
 "nbformat_minor": 5
}
