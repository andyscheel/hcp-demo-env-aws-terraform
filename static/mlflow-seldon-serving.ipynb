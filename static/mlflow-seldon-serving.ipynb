{
 "cells": [
  {
   "cell_type": "markdown",
   "id": "131332c6-bd91-46c3-b605-a61a044bfe72",
   "metadata": {},
   "source": [
    "Get Tenant ID"
   ]
  },
  {
   "cell_type": "code",
   "execution_count": 23,
   "id": "874cc04a-ef95-48eb-8fb5-38b02c6ca435",
   "metadata": {},
   "outputs": [],
   "source": [
    "! ~/.local/bin/hpecp tenant list | grep MLOPS"
   ]
  },
  {
   "cell_type": "code",
   "execution_count": null,
   "id": "c20e807d-9345-4228-bd25-6663d2727c4b",
   "metadata": {},
   "outputs": [],
   "source": [
    "SERVING_URL is sfrom Model Serving -> MLflow Seldon Endpointss"
   ]
  },
  {
   "cell_type": "code",
   "execution_count": 25,
   "id": "b6fe2336-4ae8-4f1c-8024-5f32769dcaa6",
   "metadata": {},
   "outputs": [
    {
     "name": "stdout",
     "output_type": "stream",
     "text": [
      "{\"data\":{\"names\":[],\"ndarray\":[5.655099099229192]},\"meta\":{}}\n"
     ]
    }
   ],
   "source": [
    "%%bash\n",
    "\n",
    "TENANT_ID=/api/v1/tenant/6\n",
    "\n",
    "SERVING_URL=https://ip-10-1-0-150.eu-west-3.compute.internal:10004/seldon/hpecp-tenant-6-lt8x5/model-mymodelserving/api/v1.0/predictions\n",
    "\n",
    "AUTH_TOKEN=$(bash get_kf_dashboard_auth_token.sh   ad_user1 pass123)\n",
    "\n",
    "curl -s -k \\\n",
    "  --cookie \"authservice_session=${AUTH_TOKEN}\" \\\n",
    "  -X POST -H 'Content-Type: application/json' \\\n",
    "  -d '{\"data\":{\"names\":[],\"ndarray\":[[7.0,0.27,0.36,20.7,0.045,45.0,170.0,1.001,3.0,0.45,8.8]]}}' \\\n",
    "  ${SERVING_URL}"
   ]
  },
  {
   "cell_type": "code",
   "execution_count": null,
   "id": "15b3b2a1-3dc7-43fe-b883-3413dbf116c9",
   "metadata": {},
   "outputs": [],
   "source": []
  }
 ],
 "metadata": {
  "kernelspec": {
   "display_name": "Python 3",
   "language": "python",
   "name": "python3"
  },
  "language_info": {
   "codemirror_mode": {
    "name": "ipython",
    "version": 3
   },
   "file_extension": ".py",
   "mimetype": "text/x-python",
   "name": "python",
   "nbconvert_exporter": "python",
   "pygments_lexer": "ipython3",
   "version": "3.7.3"
  }
 },
 "nbformat": 4,
 "nbformat_minor": 5
}