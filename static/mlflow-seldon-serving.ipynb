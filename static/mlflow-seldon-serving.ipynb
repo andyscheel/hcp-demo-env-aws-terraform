{
 "cells": [
  {
   "cell_type": "code",
   "execution_count": 18,
   "id": "969105bc-ff57-4e09-85c5-a8518e715b83",
   "metadata": {},
   "outputs": [],
   "source": []
  },
  {
   "cell_type": "code",
   "execution_count": 20,
   "id": "b6fe2336-4ae8-4f1c-8024-5f32769dcaa6",
   "metadata": {},
   "outputs": [
    {
     "name": "stdout",
     "output_type": "stream",
     "text": [
      "{\"data\":{\"names\":[],\"ndarray\":[5.655099099229192]},\"meta\":{}}\n"
     ]
    }
   ],
   "source": [
    "%%bash\n",
    "\n",
    "## Enter the SERVING_URL from the URI left hand menu:\n",
    "##\n",
    "## -> Model Serving -> MLflow Seldon Endpoints\n",
    "\n",
    "SERVING_URL=https://ip-10-1-0-43.eu-west-3.compute.internal:10004/seldon/hpecp-tenant-4-g5nj4/model-wineserving/api/v1.0/predictions\n",
    "\n",
    "TENANT_NAME=k8s-tenant-1\n",
    "\n",
    "TENANT_ID=$(~/.local/bin/hpecp tenant list --query \"[?tenant_type == 'k8s' && label.name == '$TENANT_NAME'] | [0] | [_links.self.href]\" --output text)\n",
    "        \n",
    "AUTH_TOKEN=$(bash get_kf_dashboard_auth_token.sh $TENANT_ID ad_user1 pass123)\n",
    "\n",
    "curl -s -k \\\n",
    "  --cookie \"authservice_session=${AUTH_TOKEN}\" \\\n",
    "  -X POST -H 'Content-Type: application/json' \\\n",
    "  -d '{\"data\":{\"names\":[],\"ndarray\":[[7.0,0.27,0.36,20.7,0.045,45.0,170.0,1.001,3.0,0.45,8.8]]}}' \\\n",
    "  ${SERVING_URL}"
   ]
  },
  {
   "cell_type": "code",
   "execution_count": null,
   "id": "8e7ec75f-b233-453e-8bee-22d3b89fbbe7",
   "metadata": {},
   "outputs": [],
   "source": []
  }
 ],
 "metadata": {
  "kernelspec": {
   "display_name": "Python 3",
   "language": "python",
   "name": "python3"
  },
  "language_info": {
   "codemirror_mode": {
    "name": "ipython",
    "version": 3
   },
   "file_extension": ".py",
   "mimetype": "text/x-python",
   "name": "python",
   "nbconvert_exporter": "python",
   "pygments_lexer": "ipython3",
   "version": "3.8.8"
  }
 },
 "nbformat": 4,
 "nbformat_minor": 5
}