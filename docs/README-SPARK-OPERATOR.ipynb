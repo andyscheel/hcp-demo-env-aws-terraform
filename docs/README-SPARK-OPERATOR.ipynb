{
 "cells": [
  {
   "cell_type": "markdown",
   "metadata": {},
   "source": [
    "```\n",
    "!!!!!!!!!!!!!!!!!!!!!!!!!!!!!!!!!!!!!!!!!!!!!!!!\n",
    "!!!!! This notebook is a work-in-progress !!!!!!\n",
    "!!!!!!!!!!!!!!!!!!!!!!!!!!!!!!!!!!!!!!!!!!!!!!!!\n",
    "```"
   ]
  },
  {
   "cell_type": "code",
   "execution_count": 1,
   "metadata": {},
   "outputs": [],
   "source": [
    "# !pip3 install --quiet --upgrade --user hpecp"
   ]
  },
  {
   "cell_type": "code",
   "execution_count": 2,
   "metadata": {},
   "outputs": [],
   "source": [
    "import os\n",
    "import sys\n",
    "sys.path.insert(0, os.path.abspath('/Users/christophersnow/Code/hpecp-client/'))"
   ]
  },
  {
   "cell_type": "markdown",
   "metadata": {},
   "source": [
    "You **MUST** restart your kernel (MENU: Kernel -> Restart) to use the installed packages."
   ]
  },
  {
   "cell_type": "code",
   "execution_count": 3,
   "metadata": {},
   "outputs": [],
   "source": [
    "from hpecp import ContainerPlatformClient\n",
    "\n",
    "hpeclient = ContainerPlatformClient(username='admin', \n",
    "                                password='admin123', \n",
    "                                api_host='127.0.0.1', \n",
    "                                api_port=8080,\n",
    "                                use_ssl=True,\n",
    "                                verify_ssl='/certs/hpecp-ca-cert.pem')\n",
    "\n",
    "hpeclient.create_session()"
   ]
  },
  {
   "cell_type": "code",
   "execution_count": 4,
   "metadata": {},
   "outputs": [
    {
     "name": "stdout",
     "output_type": "stream",
     "text": [
      "+-----------+------------+------------------------------------------+------------+--------------------------+\n",
      "| worker_id |   status   |                 hostname                 |   ipaddr   |           href           |\n",
      "+-----------+------------+------------------------------------------+------------+--------------------------+\n",
      "|     3     | configured | ip-10-1-0-145.eu-west-2.compute.internal | 10.1.0.145 | /api/v2/worker/k8shost/3 |\n",
      "|     4     | configured | ip-10-1-0-50.eu-west-2.compute.internal  | 10.1.0.50  | /api/v2/worker/k8shost/4 |\n",
      "|     5     | configured | ip-10-1-0-181.eu-west-2.compute.internal | 10.1.0.181 | /api/v2/worker/k8shost/5 |\n",
      "|     6     | configured | ip-10-1-0-118.eu-west-2.compute.internal | 10.1.0.118 | /api/v2/worker/k8shost/6 |\n",
      "+-----------+------------+------------------------------------------+------------+--------------------------+\n"
     ]
    }
   ],
   "source": [
    "print(hpeclient.k8s_worker.get_k8shosts().tabulate())"
   ]
  },
  {
   "cell_type": "code",
   "execution_count": 5,
   "metadata": {},
   "outputs": [
    {
     "name": "stderr",
     "output_type": "stream",
     "text": [
      "2020-05-02 22:31:08,940 - ContainerPlatformClient - ERROR - k8s_cluster/create : post https://127.0.0.1:8080/api/v2/k8scluster Request: {\"label\": {\"name\": \"Spark Operator\", \"description\": \"Spark Operator Demo\"}, \"pod_network_range\": \"10.192.0.0/12\", \"service_network_range\": \"10.96.0.0/12\", \"pod_dns_domain\": \"cluster.local\", \"persistent_storage\": {\"local\": false, \"nimble_csi\": false}, \"k8shosts_config\": [{\"node\": \"/api/v2/worker/k8shost/3\", \"role\": \"master\"}, {\"node\": \"/api/v2/worker/k8shost/4\", \"role\": \"worker\"}, {\"node\": \"/api/v2/worker/k8shost/5\", \"role\": \"worker\"}, {\"node\": \"/api/v2/worker/k8shost/6\", \"role\": \"worker\"}], \"k8s_version\": \"1.17.0\"}\n",
      "Traceback (most recent call last):\n",
      "  File \"/Users/christophersnow/Code/hpecp-client/hpecp/client.py\", line 154, in _request\n",
      "    response.raise_for_status()\n",
      "  File \"/Users/christophersnow/Code/bluedata-demo-env-aws-terraform/venv/lib/python3.7/site-packages/requests/models.py\", line 941, in raise_for_status\n",
      "    raise HTTPError(http_error_msg, response=self)\n",
      "requests.exceptions.HTTPError: 403 Client Error: Forbidden for url: https://127.0.0.1:8080/api/v2/k8scluster\n"
     ]
    },
    {
     "name": "stdout",
     "output_type": "stream",
     "text": [
      "403 Forbidden: \n",
      "/api/v2/worker/k8shost/3.node: host is part of an existing k8s cluster\n",
      "/api/v2/worker/k8shost/4.node: host is part of an existing k8s cluster\n",
      "/api/v2/worker/k8shost/5.node: host is part of an existing k8s cluster\n",
      "/api/v2/worker/k8shost/6.node: host is part of an existing k8s cluster\n",
      "\n"
     ]
    }
   ],
   "source": [
    "from hpecp import APIException\n",
    "from hpecp.k8s_cluster import K8sClusterHostConfig\n",
    "\n",
    "try:\n",
    "    k8s_cluster_id = hpeclient.k8s_cluster.create(\n",
    "                                        name = 'Spark Operator', \n",
    "                                        description = 'Spark Operator Demo', \n",
    "                                        k8s_version = '1.17.0', \n",
    "                                        k8shosts_config = [\n",
    "                                                        K8sClusterHostConfig('/api/v2/worker/k8shost/3', 'master'),\n",
    "                                                        K8sClusterHostConfig('/api/v2/worker/k8shost/4', 'worker'),\n",
    "                                                        K8sClusterHostConfig('/api/v2/worker/k8shost/5', 'worker'),\n",
    "                                                        K8sClusterHostConfig('/api/v2/worker/k8shost/6', 'worker')\n",
    "                                                    ]\n",
    "                                    )\n",
    "    print('Creating cluster id: ' + k8s_cluster_id)\n",
    "except APIException as e:\n",
    "    print(e.message)"
   ]
  },
  {
   "cell_type": "code",
   "execution_count": 6,
   "metadata": {},
   "outputs": [
    {
     "name": "stdout",
     "output_type": "stream",
     "text": [
      "+-----------------------+----------------+---------------------+-------------+--------------------+----------------------+--------------+--------+\n",
      "|          id           |      name      |     description     | k8s_version | created_by_user_id | created_by_user_name | created_time | status |\n",
      "+-----------------------+----------------+---------------------+-------------+--------------------+----------------------+--------------+--------+\n",
      "| /api/v2/k8scluster/61 | Spark Operator | Spark Operator Demo |   1.17.0    |   /api/v1/user/5   |        admin         |  1588410471  | ready  |\n",
      "+-----------------------+----------------+---------------------+-------------+--------------------+----------------------+--------------+--------+\n"
     ]
    }
   ],
   "source": [
    "print(hpeclient.k8s_cluster.list().tabulate())"
   ]
  },
  {
   "cell_type": "code",
   "execution_count": 7,
   "metadata": {},
   "outputs": [
    {
     "data": {
      "text/plain": [
       "True"
      ]
     },
     "execution_count": 7,
     "metadata": {},
     "output_type": "execute_result"
    }
   ],
   "source": [
    "from hpecp.k8s_cluster import K8sClusterStatus\n",
    "\n",
    "hpeclient.k8s_cluster.wait_for_status(k8scluster_id='/api/v2/k8scluster/61', timeout_secs=600, status=[ K8sClusterStatus.ready ])"
   ]
  },
  {
   "cell_type": "code",
   "execution_count": 8,
   "metadata": {},
   "outputs": [
    {
     "name": "stderr",
     "output_type": "stream",
     "text": [
      "2020-05-02 22:31:09,141 - ContainerPlatformClient - WARNING - !!!!!!!!!!!!!!!!!!!!!!!!!!!!!!!!!!!!!!!!!!!!!!!!!!!!!!\n",
      "2020-05-02 22:31:09,143 - ContainerPlatformClient - WARNING - !!!! The method `tenant.create()` is experimental !!!!\n",
      "2020-05-02 22:31:09,145 - ContainerPlatformClient - WARNING - !!!!!!!!!!!!!!!!!!!!!!!!!!!!!!!!!!!!!!!!!!!!!!!!!!!!!!\n",
      "2020-05-02 22:31:09,254 - ContainerPlatformClient - ERROR - tenant/create : post https://127.0.0.1:8080/api/v1/tenant Request: {\"label\": {\"name\": \"tenant2\", \"description\": \"tenant demo\"}, \"tenant_type\": \"k8s\", \"member_key_available\": \"all_admins\", \"k8s_cluster\": \"/api/v2/k8scluster/61\"}\n",
      "Traceback (most recent call last):\n",
      "  File \"/Users/christophersnow/Code/hpecp-client/hpecp/client.py\", line 154, in _request\n",
      "    response.raise_for_status()\n",
      "  File \"/Users/christophersnow/Code/bluedata-demo-env-aws-terraform/venv/lib/python3.7/site-packages/requests/models.py\", line 941, in raise_for_status\n",
      "    raise HTTPError(http_error_msg, response=self)\n",
      "requests.exceptions.HTTPError: 403 Client Error: Forbidden for url: https://127.0.0.1:8080/api/v1/tenant\n"
     ]
    },
    {
     "name": "stdout",
     "output_type": "stream",
     "text": [
      "403 Forbidden: tenant with the same name already exists\n",
      "\n"
     ]
    }
   ],
   "source": [
    "from hpecp import APIException\n",
    "\n",
    "try:\n",
    "    hpeclient.tenant.create(\n",
    "                        name='tenant2', \n",
    "                        description='tenant demo', \n",
    "                        tenant_type='k8s', \n",
    "                        k8s_cluster='/api/v2/k8scluster/61'\n",
    "                        )\n",
    "except APIException as e:\n",
    "    print(e.message)"
   ]
  },
  {
   "cell_type": "code",
   "execution_count": 9,
   "metadata": {},
   "outputs": [
    {
     "name": "stdout",
     "output_type": "stream",
     "text": [
      "+-------------------+----------------------------------+--------------------------------------------------------+-------------+\n",
      "|        id         |               name               |                      description                       | tenant_type |\n",
      "+-------------------+----------------------------------+--------------------------------------------------------+-------------+\n",
      "| /api/v1/tenant/1  |            Site Admin            |        Site Admin Tenant for BlueData clusters         |             |\n",
      "| /api/v1/tenant/11 | K8S Cluster Admin Spark Operator | Kubernetes Cluster Admin Tenant for Kubernetes cluster |  k8s_admin  |\n",
      "| /api/v1/tenant/2  |           Demo Tenant            |           Demo Tenant for BlueData Clusters            |   docker    |\n",
      "| /api/v1/tenant/29 |             tenant2              |                      tenant demo                       |     k8s     |\n",
      "+-------------------+----------------------------------+--------------------------------------------------------+-------------+\n"
     ]
    }
   ],
   "source": [
    "import os\n",
    "os.environ[\"LOG_LEVEL\"] = \"DEBUG\"\n",
    "\n",
    "print(hpeclient.tenant.list().tabulate())"
   ]
  },
  {
   "cell_type": "code",
   "execution_count": 10,
   "metadata": {},
   "outputs": [
    {
     "name": "stdout",
     "output_type": "stream",
     "text": [
      "ip-10-1-0-219.eu-west-2.compute.internal\n"
     ]
    }
   ],
   "source": [
    "%%sh\n",
    "\n",
    "cd ..\n",
    "./generated/ssh_controller.sh hostname -f"
   ]
  },
  {
   "cell_type": "code",
   "execution_count": 11,
   "metadata": {},
   "outputs": [
    {
     "name": "stderr",
     "output_type": "stream",
     "text": [
      "2020-05-02 22:31:12,422 - ContainerPlatformClient - WARNING - !!!!!!!!!!!!!!!!!!!!!!!!!!!!!!!!!!!!!!!!!!!!!!!!!!!\n",
      "2020-05-02 22:31:12,424 - ContainerPlatformClient - WARNING - !!!! The method `tenant.get()` is experimental !!!!\n",
      "2020-05-02 22:31:12,425 - ContainerPlatformClient - WARNING - !!!!!!!!!!!!!!!!!!!!!!!!!!!!!!!!!!!!!!!!!!!!!!!!!!!\n"
     ]
    },
    {
     "name": "stdout",
     "output_type": "stream",
     "text": [
      "hpecp-tenant-29-pdz85\n",
      "\n",
      "Listing pods in tenant namespace 'hpecp-tenant-29-pdz85' with their IPs:\n",
      "\n",
      "\n",
      "Listing pods in all namespaces with their IPs:\n",
      "\n",
      "  10.192.1.7                  hpecp   hpecp-agent-8499d5798b-gmhp4\n",
      "  10.1.0.181                  hpecp   hpecp-fsmount-258s6\n",
      "  10.1.0.145                  hpecp   hpecp-fsmount-2cmbb\n",
      "   10.1.0.50                  hpecp   hpecp-fsmount-9fqld\n",
      "  10.1.0.118                  hpecp   hpecp-fsmount-lzflg\n",
      "10.192.0.132                  hpecp   kubedirector-7fdbdb7775-gz2m7\n",
      "   10.1.0.50            kube-system   canal-6fq8p\n",
      "  10.1.0.145            kube-system   canal-8xcn4\n",
      "  10.1.0.118            kube-system   canal-fkrq5\n",
      "  10.1.0.181            kube-system   canal-z2k9s\n",
      "10.192.0.133            kube-system   coredns-6955765f44-6vhrf\n",
      "10.192.1.134            kube-system   coredns-6955765f44-9mtcb\n",
      "  10.1.0.145            kube-system   etcd-ip-10-1-0-145.eu-west-2.compute.internal\n",
      "  10.1.0.145            kube-system   kube-apiserver-ip-10-1-0-145.eu-west-2.compute.internal\n",
      "  10.1.0.145            kube-system   kube-controller-manager-ip-10-1-0-145.eu-west-2.compute.internal\n",
      "  10.1.0.118            kube-system   kube-proxy-5xfc2\n",
      "  10.1.0.181            kube-system   kube-proxy-dspv8\n",
      "  10.1.0.145            kube-system   kube-proxy-q5prq\n",
      "   10.1.0.50            kube-system   kube-proxy-qdzvm\n",
      "  10.1.0.145            kube-system   kube-scheduler-ip-10-1-0-145.eu-west-2.compute.internal\n",
      "  10.192.1.6            kube-system   kube-state-metrics-55489476b6-ddlqp\n",
      "  10.1.0.181            kube-system   metricbeat-66dc7b8c78-vv5n5\n",
      "  10.1.0.181            kube-system   metricbeat-bwkbj\n",
      "  10.1.0.145            kube-system   metricbeat-kgzmn\n",
      "   10.1.0.50            kube-system   metricbeat-qprx4\n",
      "  10.1.0.118            kube-system   metricbeat-sf4hb\n",
      "  10.192.0.3            kube-system   metrics-server-6775cb9c9-dts77\n",
      "10.192.1.135   kubernetes-dashboard   dashboard-metrics-scraper-64c6c59665-kw4x8\n",
      "  10.192.1.5   kubernetes-dashboard   kubernetes-dashboard-664597f9b6-2twwx\n",
      "  10.1.0.118               mapr-csi   csi-nodeplugin-kdf-gxxzl\n",
      "   10.1.0.50               mapr-csi   csi-nodeplugin-kdf-mpn4l\n",
      "  10.1.0.181               mapr-csi   csi-nodeplugin-kdf-wvfrr\n",
      "10.192.1.133               mapr-csi   csi-provisioner-kdf-0\n"
     ]
    }
   ],
   "source": [
    "from kubernetes import client, config\n",
    "import tempfile\n",
    "\n",
    "try:\n",
    "    demo_tenant = hpeclient.tenant.get('/api/v1/tenant/29')\n",
    "    demo_cluster = hpeclient.k8s_cluster.get('/api/v2/k8scluster/61')\n",
    "except APIException as e:\n",
    "    print(e)\n",
    "\n",
    "ns = demo_tenant.json['namespace']\n",
    "    \n",
    "# get the kube admin config for the first cluster \n",
    "admin_kube_config = demo_cluster.admin_kube_config\n",
    "\n",
    "#  write it to a temporary file\n",
    "with tempfile.NamedTemporaryFile(mode = \"w\") as fp:\n",
    "    fp.write(admin_kube_config)\n",
    "    fp.flush()\n",
    "\n",
    "    # read the kube config with the kubernetes client\n",
    "    config.load_kube_config(fp.name)\n",
    "\n",
    "    # list the pods        \n",
    "    v1 = client.CoreV1Api()\n",
    "    \n",
    "    print(\"\\nListing pods in tenant namespace '{}' with their IPs:\\n\".format(ns))\n",
    "    ret = v1.list_namespaced_pod(watch=False, namespace=ns)\n",
    "    for i in ret.items:\n",
    "        print(\"{:>12}   {:>20}   {}\".format(i.status.pod_ip, i.metadata.namespace, i.metadata.name))\n",
    "    \n",
    "    print(\"\\nListing pods in all namespaces with their IPs:\\n\")\n",
    "    ret = v1.list_pod_for_all_namespaces(watch=False)\n",
    "    for i in ret.items:\n",
    "        print(\"{:>12}   {:>20}   {}\".format(i.status.pod_ip, i.metadata.namespace, i.metadata.name))"
   ]
  },
  {
   "cell_type": "code",
   "execution_count": null,
   "metadata": {},
   "outputs": [],
   "source": []
  }
 ],
 "metadata": {
  "kernelspec": {
   "display_name": "venv",
   "language": "python",
   "name": "venv"
  },
  "language_info": {
   "codemirror_mode": {
    "name": "ipython",
    "version": 3
   },
   "file_extension": ".py",
   "mimetype": "text/x-python",
   "name": "python",
   "nbconvert_exporter": "python",
   "pygments_lexer": "ipython3",
   "version": "3.7.7"
  }
 },
 "nbformat": 4,
 "nbformat_minor": 4
}
