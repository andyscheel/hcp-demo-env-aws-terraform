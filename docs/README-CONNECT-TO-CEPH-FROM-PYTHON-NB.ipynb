{
 "cells": [
  {
   "cell_type": "markdown",
   "metadata": {},
   "source": [
    "### Overview\n",
    "\n",
    "This demo walks through connecting to Ceph from an EPIC cluster using python (not Spark)."
   ]
  },
  {
   "cell_type": "markdown",
   "metadata": {},
   "source": [
    "### Setup\n",
    "\n",
    "- On your client machine, run the script `./scripts/end_user_scripts/ceph/1_demo_server_setup.sh` to setup a ceph nano server on the RDP Server host\n",
    "- Add the EPIC Spark 2.4 image\n",
    "- Configure EPIC with Active Directory [see README](https://github.com/bluedata-community/bluedata-demo-env-aws-terraform/blob/master/docs/README-AD.md)\n",
    "- Setup Demo Tenant with Active Directory [see README](https://github.com/bluedata-community/bluedata-demo-env-aws-terraform/blob/master/docs/README-AD.md)\n",
    "- Provision a Spark cluster in the Demo Tenant with:\n",
    "  - 1 x Spark Controller (small)\n",
    "  - 1 x Jupyter Hub (small)"
   ]
  },
  {
   "cell_type": "markdown",
   "metadata": {},
   "source": [
    "### Connect"
   ]
  },
  {
   "cell_type": "markdown",
   "metadata": {},
   "source": [
    "- Verify that we are able to get a response from the ceph instance. We should see something like:\n",
    "\n",
    "```\n",
    "<?xml version=\"1.0\" encoding=\"UTF-8\"?><ListAllMyBucketsResult xmlns=\"http://s3.amazonaws.com/doc/2006-03-01/\"><Owner><ID>anonymous</ID><DisplayName></DisplayName></Owner><Buckets></Buckets></ListAllMyBucketsResult>\n",
    "```"
   ]
  },
  {
   "cell_type": "code",
   "execution_count": 1,
   "metadata": {},
   "outputs": [],
   "source": [
    "! curl 10.1.0.216:8080 # Change to the private IP of RDP server"
   ]
  },
  {
   "cell_type": "markdown",
   "metadata": {},
   "source": [
    "- Install the boto library"
   ]
  },
  {
   "cell_type": "code",
   "execution_count": 2,
   "metadata": {},
   "outputs": [
    {
     "name": "stdout",
     "output_type": "stream",
     "text": [
      "Requirement already satisfied: boto in ./.local/lib/python3.6/site-packages (2.49.0)\n"
     ]
    }
   ],
   "source": [
    "! pip install --user boto # now restart kernel to pick up the boto library  "
   ]
  },
  {
   "cell_type": "markdown",
   "metadata": {},
   "source": [
    "- Set up the connection"
   ]
  },
  {
   "cell_type": "code",
   "execution_count": 3,
   "metadata": {},
   "outputs": [],
   "source": [
    "import boto\n",
    "import boto.s3.connection\n",
    "access_key = 'sandboxAccessKey'\n",
    "secret_key = 'sandboxSecretKey'\n",
    "host       = '10.1.0.216' # Change to the private IP of RDP server \n",
    "\n",
    "conn = boto.connect_s3(\n",
    "        aws_access_key_id = access_key,\n",
    "        aws_secret_access_key = secret_key,\n",
    "        host = host,  \n",
    "        port = 8080,\n",
    "        is_secure=False,\n",
    "        calling_format = boto.s3.connection.OrdinaryCallingFormat(),\n",
    "        )"
   ]
  },
  {
   "cell_type": "markdown",
   "metadata": {},
   "source": [
    "- List the current buckets"
   ]
  },
  {
   "cell_type": "code",
   "execution_count": 4,
   "metadata": {},
   "outputs": [
    {
     "name": "stdout",
     "output_type": "stream",
     "text": [
      "sandboxbucket\t2020-04-23T21:38:01.127Z\n"
     ]
    }
   ],
   "source": [
    "for bucket in conn.get_all_buckets():\n",
    "        print(\"{name}\\t{created}\".format(\n",
    "                name = bucket.name,\n",
    "                created = bucket.creation_date,\n",
    "        ))"
   ]
  },
  {
   "cell_type": "markdown",
   "metadata": {},
   "source": [
    "- Create a new bucket"
   ]
  },
  {
   "cell_type": "code",
   "execution_count": 5,
   "metadata": {},
   "outputs": [],
   "source": [
    "bucket = conn.create_bucket('my-new-bucket')"
   ]
  },
  {
   "cell_type": "markdown",
   "metadata": {},
   "source": [
    "- List the buckets"
   ]
  },
  {
   "cell_type": "code",
   "execution_count": 6,
   "metadata": {},
   "outputs": [
    {
     "name": "stdout",
     "output_type": "stream",
     "text": [
      "my-new-bucket\t2020-04-24T00:38:31.464Z\n",
      "sandboxbucket\t2020-04-23T21:38:01.127Z\n"
     ]
    }
   ],
   "source": [
    "for bucket in conn.get_all_buckets():\n",
    "        print(\"{name}\\t{created}\".format(\n",
    "                name = bucket.name,\n",
    "                created = bucket.creation_date,\n",
    "        ))"
   ]
  },
  {
   "cell_type": "code",
   "execution_count": 7,
   "metadata": {},
   "outputs": [],
   "source": [
    "bucket = conn.delete_bucket('my-new-bucket')"
   ]
  },
  {
   "cell_type": "markdown",
   "metadata": {},
   "source": [
    "### Lab Exercise\n",
    "\n",
    "- Upload a dataset to Ceph on the RDP Server using `s3cmd` installed on the RDP Server\n",
    "- Retrieve the data set with boto\n",
    "- Read the data set into Pandas"
   ]
  },
  {
   "cell_type": "code",
   "execution_count": null,
   "metadata": {},
   "outputs": [],
   "source": []
  }
 ],
 "metadata": {
  "kernelspec": {
   "display_name": "Python 3",
   "language": "python",
   "name": "python3"
  },
  "language_info": {
   "codemirror_mode": {
    "name": "ipython",
    "version": 3
   },
   "file_extension": ".py",
   "mimetype": "text/x-python",
   "name": "python",
   "nbconvert_exporter": "python",
   "pygments_lexer": "ipython3",
   "version": "3.6.9"
  }
 },
 "nbformat": 4,
 "nbformat_minor": 4
}
